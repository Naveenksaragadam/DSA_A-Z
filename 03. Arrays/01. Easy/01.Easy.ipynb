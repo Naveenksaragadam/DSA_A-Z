{
 "cells": [
  {
   "cell_type": "markdown",
   "id": "1eaf6a4f-16e1-4a89-98d8-1298c03a0128",
   "metadata": {},
   "source": [
    "# Find the Largest element in an array\n",
    "### __Problem Statement:__ Given an array, we have to find the largest element in the array."
   ]
  },
  {
   "cell_type": "raw",
   "id": "d09fd67b-e7c6-408c-bd0e-38e6443e7516",
   "metadata": {},
   "source": [
    "Example 1:\n",
    "Input:\n",
    " arr[] = {2,5,1,3,0};\n",
    "Output: 5\n",
    "Explanation:\n",
    " 5 is the largest element in the array. "
   ]
  },
  {
   "cell_type": "code",
   "execution_count": 101,
   "id": "db88fa38-76b3-445b-85e4-ce353ba2e04e",
   "metadata": {},
   "outputs": [
    {
     "name": "stdin",
     "output_type": "stream",
     "text": [
      "Enter number of test cases:  2\n"
     ]
    },
    {
     "name": "stdout",
     "output_type": "stream",
     "text": [
      "====================================================\n",
      "\n",
      "Test case: 1\n"
     ]
    },
    {
     "name": "stdin",
     "output_type": "stream",
     "text": [
      "Enter array:  1,2,3,4,6,9\n"
     ]
    },
    {
     "name": "stdout",
     "output_type": "stream",
     "text": [
      "9 is the largest element in the given array.\n",
      "\n",
      "Test case: 2\n"
     ]
    },
    {
     "name": "stdin",
     "output_type": "stream",
     "text": [
      "Enter array:  9,6,191,8,234\n"
     ]
    },
    {
     "name": "stdout",
     "output_type": "stream",
     "text": [
      "234 is the largest element in the given array.\n",
      "\n"
     ]
    }
   ],
   "source": [
    "from typing import List\n",
    "def Largest_element(arr: List[int]) -> int:\n",
    "    largest = arr[0]\n",
    "\n",
    "    for element in arr:\n",
    "        if element > largest:\n",
    "            largest = element\n",
    "    return largest\n",
    "\n",
    "if __name__ == \"__main__\":\n",
    "    t = int(input(\"Enter number of test cases: \"))\n",
    "    print(\"====================================================\")\n",
    "    \n",
    "    for _ in range(t):\n",
    "        print()\n",
    "        print(f\"Test case: {_+1}\")\n",
    "        arr = list(map(int,input(\"Enter array: \").split(\",\")))\n",
    "        largest_element = Largest_element(arr)\n",
    "        print(f\"{largest_element} is the largest element in the given array.\")"
   ]
  },
  {
   "cell_type": "raw",
   "id": "e1ad99f2-7f77-4ad4-b7f9-9bf4bbd4b935",
   "metadata": {},
   "source": []
  },
  {
   "cell_type": "markdown",
   "id": "d2d2bec2-065e-4921-a8f6-3873e5498261",
   "metadata": {},
   "source": [
    "# Find Second Smallest and Second Largest Element in an array\n",
    "## __Problem Statement:__ Given an array, find the second smallest and second largest element in the array. Print ‘-1’ in the event that either of them doesn’t exist."
   ]
  },
  {
   "cell_type": "raw",
   "id": "2452eb84-1cc6-4905-8553-8d9ff2913c6d",
   "metadata": {},
   "source": [
    "Example 1:\n",
    "Input:\n",
    " [1,2,4,7,7,5]\n",
    "Output:\n",
    " Second Smallest : 2\n",
    "\tSecond Largest : 5\n",
    "Explanation:\n",
    " The elements are as follows 1,2,3,5,7,7 and hence second largest of these is 5 and second smallest is 2"
   ]
  },
  {
   "cell_type": "code",
   "execution_count": 58,
   "id": "0dfc8d04-2947-487e-9c74-f96bd226a930",
   "metadata": {},
   "outputs": [
    {
     "name": "stdin",
     "output_type": "stream",
     "text": [
      "Enter number of cases:  2\n"
     ]
    },
    {
     "name": "stdout",
     "output_type": "stream",
     "text": [
      "====================================================\n",
      "Test case: 1\n"
     ]
    },
    {
     "name": "stdin",
     "output_type": "stream",
     "text": [
      "Enter array:  1\n"
     ]
    },
    {
     "name": "stdout",
     "output_type": "stream",
     "text": [
      "Second Smalled Input is -1 and Second Highest Input is -1.\n",
      "\n",
      "Test case: 2\n"
     ]
    },
    {
     "name": "stdin",
     "output_type": "stream",
     "text": [
      "Enter array:  1\n"
     ]
    },
    {
     "name": "stdout",
     "output_type": "stream",
     "text": [
      "Second Smalled Input is -1 and Second Highest Input is -1.\n",
      "\n"
     ]
    }
   ],
   "source": [
    "from typing import List, Tuple\n",
    "\n",
    "def second_smallest_elements(arr: List[int]) -> Tuple[int,int]:\n",
    "    Smallest = float('inf')\n",
    "    Second_Smallest = float('inf')\n",
    "    Highest = float('-inf')\n",
    "    Second_Highest = float('-inf')\n",
    "\n",
    "    if len(arr) < 2:\n",
    "        return -1,-1\n",
    "\n",
    "    for i in arr:\n",
    "        if i < Smallest:\n",
    "            Smallest, Second_Smallest = i, Smallest\n",
    "        if i < Second_Smallest and i > Smallest:\n",
    "            Second_Smallest = i\n",
    "        if i > Highest:\n",
    "            Highest, Second_Highest = i, Highest\n",
    "        if i > Second_Highest and i < Highest:\n",
    "            Second_Highest = i\n",
    "    return Second_Smallest, Second_Highest\n",
    "\n",
    "if __name__ == \"__main__\":\n",
    "\n",
    "    t = int(input(\"Enter number of test cases: \"))\n",
    "    print(\"====================================================\")\n",
    "    for _ in range(t):\n",
    "        print()\n",
    "        print(f\"Test case: {_+1}\")\n",
    "        arr = list(map(int,input(\"Enter array: \").split(\",\")))\n",
    "        Second_Smalled, Second_Highest = second_smallest_elements(arr)[0],second_smallest_elements(arr)[1]\n",
    "        print(f\"Second Smalled Input is {Second_Smalled} and Second Highest Input is {Second_Highest}.\")\n",
    "        "
   ]
  },
  {
   "cell_type": "raw",
   "id": "f669ea23-e6b2-456b-8ebc-c63f36c2daaa",
   "metadata": {},
   "source": []
  },
  {
   "cell_type": "markdown",
   "id": "3c110961-c59f-4226-a3dc-987c6593ef87",
   "metadata": {},
   "source": [
    "# Check if the array is sorted\n",
    "## __Problem Statement:__ Given an array of size n, write a program to check if the given array is sorted in (ascending / Increasing / Non-decreasing) order or not. If the array is sorted then return True, Else return False.\r\n",
    "\r\n",
    "Note: Two consecutive equal values are considered to be sorted."
   ]
  },
  {
   "cell_type": "code",
   "execution_count": 69,
   "id": "ae1ae669-96e3-4317-a091-fa670ac50a97",
   "metadata": {},
   "outputs": [
    {
     "name": "stdin",
     "output_type": "stream",
     "text": [
      "Enter number of test cases:  1\n"
     ]
    },
    {
     "name": "stdout",
     "output_type": "stream",
     "text": [
      "====================================================\n",
      "Test case: 1\n"
     ]
    },
    {
     "name": "stdin",
     "output_type": "stream",
     "text": [
      "Enter array:  2,1,3,4,2\n"
     ]
    },
    {
     "name": "stdout",
     "output_type": "stream",
     "text": [
      "Given array is unsorted\n"
     ]
    }
   ],
   "source": [
    "from typing import List\n",
    "\n",
    "def is_sorted(arr: List[int]) -> bool:\n",
    "    for i in range(1,len(arr)-1):\n",
    "        if arr[i] > arr[i+1]:\n",
    "            return False\n",
    "    return True\n",
    "\n",
    "if __name__ == \"__main__\":\n",
    "    t = int(input(\"Enter number of test cases: \"))\n",
    "    print(\"====================================================\")\n",
    "    for _ in range(t):\n",
    "        print()\n",
    "        print(f\"Test case: {_+1}\")\n",
    "        arr = list(map(int,input(\"Enter array: \").split(\",\")))\n",
    "        if is_sorted(arr):\n",
    "            print(\"Given array is sorted\")\n",
    "        else:\n",
    "            print(\"Given array is unsorted\")"
   ]
  },
  {
   "cell_type": "raw",
   "id": "eae11f12-17b7-47ff-a4f0-21c6c02aa961",
   "metadata": {},
   "source": []
  },
  {
   "cell_type": "markdown",
   "id": "621554e4-5ca8-45c3-bf2e-e8f372271094",
   "metadata": {},
   "source": [
    "# Remove duplicates from Sorted array\n",
    "## Problem Statement: \n",
    "Given an integer array sorted in non-decreasing order, remove the duplicates in place such that each unique element appears only once. The relative order of the elements should be kept the same.\n",
    "\r\n",
    "If there are k elements after removing the duplicates, then the first k elements of the array should hold the final result. It does not matter what you leave beyond the first k element.\r\n",
    "\r\n",
    "Note: Return k after placing the final result in the first k slots of the array."
   ]
  },
  {
   "cell_type": "raw",
   "id": "8570fc92-ad10-4b01-9e4d-192b1ba51b28",
   "metadata": {},
   "source": [
    "Example 1:\n",
    "Input:\n",
    " arr[1,1,2,2,2,3,3]\n",
    "\n",
    "Output:\n",
    " arr[1,2,3,_,_,_,_]\n",
    "\n",
    "Explanation:\n",
    " Total number of unique elements are 3, i.e[1,2,3] and Therefore return 3 after assigning [1,2,3] in the beginning of the array"
   ]
  },
  {
   "cell_type": "code",
   "execution_count": 239,
   "id": "9d274d2e-e418-4e32-b79d-fb280d67b1af",
   "metadata": {},
   "outputs": [
    {
     "name": "stdin",
     "output_type": "stream",
     "text": [
      "Enter number of test cases:  1\n"
     ]
    },
    {
     "name": "stdout",
     "output_type": "stream",
     "text": [
      "====================================================\n",
      "\n",
      "Test case: 1\n"
     ]
    },
    {
     "name": "stdin",
     "output_type": "stream",
     "text": [
      "Enter array:  0,1,1,1,1,2,2,2,3,3,3,4,5,7,9\n"
     ]
    },
    {
     "name": "stdout",
     "output_type": "stream",
     "text": [
      "Modified array is: [0, 1, 2, 3, 4, 5, 7, 9, 3, 3, 3, 4, 5, 7, 9]\n"
     ]
    }
   ],
   "source": [
    "from typing import List\n",
    "\n",
    "def remove_duplicated(arr: List[int]) -> List[int]: #1,2,2,2,3,3,3,4,4,5\n",
    "    position = 1\n",
    "    for i in range(1,len(arr)):\n",
    "        if arr[i] != arr[i-1]:\n",
    "            arr[position] = arr[i]\n",
    "            position += 1\n",
    "    return arr\n",
    "\n",
    "\n",
    "if __name__ == \"__main__\":\n",
    "    t = int(input(\"Enter number of test cases: \"))\n",
    "    print(\"====================================================\")\n",
    "    for _ in range(t):\n",
    "        print()\n",
    "        print(f\"Test case: {_+1}\")\n",
    "        arr = list(map(int,input(\"Enter array: \").split(\",\")))\n",
    "        print(f\"Modified array is: {remove_duplicated(arr)}\")\n",
    "            \n",
    "        "
   ]
  },
  {
   "cell_type": "raw",
   "id": "14e9ca1e-606e-4722-a324-9fe31c6467c9",
   "metadata": {},
   "source": []
  },
  {
   "cell_type": "markdown",
   "id": "cf901412-37be-4a0b-9aa7-790413b4eff5",
   "metadata": {},
   "source": [
    "# Left Rotate an array by one place\n",
    "Problem Statement: Given an array of N integers, left rotate the array by one place."
   ]
  },
  {
   "cell_type": "raw",
   "id": "76150fd7-f50b-4d87-a007-8df3d88fbc22",
   "metadata": {},
   "source": [
    "Example 1:\n",
    "Input: N = 5, array[] = {1,2,3,4,5}\n",
    "Output: 2,3,4,5,1\n",
    "Explanation:\n",
    "Since all the elements in array will be shifted  toward left by one so ‘2’ will now become the \n",
    "first index and and ‘1’ which was present at first index will be shifted at last."
   ]
  },
  {
   "cell_type": "code",
   "execution_count": 99,
   "id": "d924b973-5c6e-4fcc-9e0c-d9991a2a5804",
   "metadata": {},
   "outputs": [
    {
     "name": "stdin",
     "output_type": "stream",
     "text": [
      "Enter number of test cases:  3\n"
     ]
    },
    {
     "name": "stdout",
     "output_type": "stream",
     "text": [
      "====================================================\n",
      "Test case: 1\n"
     ]
    },
    {
     "name": "stdin",
     "output_type": "stream",
     "text": [
      "Enter array:  1,2,3,4,5\n"
     ]
    },
    {
     "name": "stdout",
     "output_type": "stream",
     "text": [
      "Rotate array is: [2, 3, 4, 5, 1]\n",
      "Test case: 2\n"
     ]
    },
    {
     "name": "stdin",
     "output_type": "stream",
     "text": [
      "Enter array:  1,2\n"
     ]
    },
    {
     "name": "stdout",
     "output_type": "stream",
     "text": [
      "Rotate array is: [2, 1]\n",
      "Test case: 3\n"
     ]
    },
    {
     "name": "stdin",
     "output_type": "stream",
     "text": [
      "Enter array:  1\n"
     ]
    },
    {
     "name": "stdout",
     "output_type": "stream",
     "text": [
      "Rotate array is: [1]\n"
     ]
    }
   ],
   "source": [
    "from typing import List\n",
    "\n",
    "def left_rotate(arr: List[int]) -> List:\n",
    "    first_element = arr[0]\n",
    "\n",
    "    for i in range(len(arr)-1):\n",
    "        arr[i] = arr[i+1]\n",
    "    arr[-1] = first_element\n",
    "    return arr\n",
    "\n",
    "if __name__ == \"__main__\":\n",
    "    t = int(input(\"Enter number of test cases: \"))\n",
    "    print(\"====================================================\")\n",
    "    for _ in range(t):\n",
    "        print()\n",
    "        print(f\"Test case: {_+1}\")\n",
    "        arr = list(map(int,input(\"Enter array: \").split(\",\")))\n",
    "        print(f\"Rotate array is: {left_rotate(arr)}\")\n"
   ]
  },
  {
   "cell_type": "raw",
   "id": "6ef32ddb-1505-4638-8796-40e8e849e44a",
   "metadata": {},
   "source": []
  },
  {
   "cell_type": "markdown",
   "id": "694500b3-06f1-4b4c-8dd6-608ef056a189",
   "metadata": {},
   "source": [
    "# Left rotate an array by D places\n",
    "## Problem Statement: \n",
    "Given an array of integers, rotating array of elements by k elements either left or right."
   ]
  },
  {
   "cell_type": "raw",
   "id": "bac91f1a-8268-466c-8ff8-3da45422e834",
   "metadata": {},
   "source": [
    "Example 1:\n",
    "Input: N = 7, array[] = {1,2,3,4,5,6,7} , k=2 , right\n",
    "Output: 6 7 1 2 3 4 5\n",
    "Explanation: array is rotated to right by 2 position .\n",
    "\n",
    "Example 2:\n",
    "Input: N = 6, array[] = {3,7,8,9,10,11} , k=3 , left \n",
    "Output: 9 10 11 3 7 8\n",
    "Explanation: Array is rotated to right by 3 position."
   ]
  },
  {
   "cell_type": "code",
   "execution_count": 147,
   "id": "4f39723b-ff14-4f56-b88a-e1364e80ccb9",
   "metadata": {},
   "outputs": [
    {
     "name": "stdin",
     "output_type": "stream",
     "text": [
      "Enter number of test cases:  2\n"
     ]
    },
    {
     "name": "stdout",
     "output_type": "stream",
     "text": [
      "====================================================\n",
      "\n",
      "Test case: 1\n"
     ]
    },
    {
     "name": "stdin",
     "output_type": "stream",
     "text": [
      "Enter array:  1,2,3,4,5,6,7\n",
      "Enter d:  2\n"
     ]
    },
    {
     "name": "stdout",
     "output_type": "stream",
     "text": [
      "Rotate array is: [6, 7, 1, 2, 3, 4, 5]\n",
      "\n",
      "Test case: 2\n"
     ]
    },
    {
     "name": "stdin",
     "output_type": "stream",
     "text": [
      "Enter array:  3,7,8,9,10,11\n",
      "Enter d:  3\n"
     ]
    },
    {
     "name": "stdout",
     "output_type": "stream",
     "text": [
      "Rotate array is: [9, 10, 11, 3, 7, 8]\n"
     ]
    }
   ],
   "source": [
    "from typing import List\n",
    "\n",
    "def rotate(arr: List[int],start: int, end: int) -> List[int]:\n",
    "    arr[start:end] = arr[start:end][::-1]\n",
    "    return arr\n",
    "\n",
    "def k_left_rotate(arr: List[int],k:int) -> List[int]:\n",
    "    k = k%len(arr)\n",
    "\n",
    "    rotate(arr,0,len(arr))\n",
    "    rotate(arr,0,k)\n",
    "    rotate(arr,k,len(arr)+1)\n",
    "    return arr\n",
    "\n",
    "if __name__ == \"__main__\":\n",
    "    t = int(input(\"Enter number of test cases: \"))\n",
    "    print(\"====================================================\")\n",
    "    for _ in range(t):\n",
    "        print()\n",
    "        print(f\"Test case: {_+1}\")\n",
    "        arr = list(map(int,input(\"Enter array: \").split(\",\")))\n",
    "        k = int(input(\"Enter k: \"))\n",
    "        print(f\"Rotate array is: {k_left_rotate(arr,k)}\")"
   ]
  },
  {
   "cell_type": "raw",
   "id": "78ce2459-b263-4e1a-bc2a-e62debaea04d",
   "metadata": {},
   "source": []
  },
  {
   "cell_type": "markdown",
   "id": "2af96b8c-03b2-43e1-b4de-b5ca2f27eebc",
   "metadata": {},
   "source": [
    "# Move all Zeros to the end of the array\n",
    "## Problem Statement:\n",
    "You are given an array of integers, your task is to move all the zeros in the array to the end of the array and move non-negative integers to the front by maintaining their order.r.\n",
    "\r\n"
   ]
  },
  {
   "cell_type": "raw",
   "id": "0b7c8048-bc61-4450-80a2-82803200daa7",
   "metadata": {},
   "source": [
    "Example 1:\n",
    "Input: 1 ,0 ,2 ,3 ,0 ,4 ,0 ,1\n",
    "Output: 1 ,2 ,3 ,4 ,1 ,0 ,0 ,0\n",
    "Explanation:\n",
    " All the zeros are moved to the end and non-negative integers are moved to front by maintaining order\n",
    "\n",
    "Example 2:\n",
    "Input: 1,2,0,1,0,4,0\n",
    "Output: 1,2,1,4,0,0,0\n",
    "Explanation:\n",
    " All the zeros are moved to the end and non-negative integers are moved to front by maintaining order"
   ]
  },
  {
   "cell_type": "code",
   "execution_count": 7,
   "id": "1073156d-36f8-4240-a349-91735fe128f1",
   "metadata": {},
   "outputs": [
    {
     "name": "stdin",
     "output_type": "stream",
     "text": [
      "Enter number of test cases:  1\n"
     ]
    },
    {
     "name": "stdout",
     "output_type": "stream",
     "text": [
      "====================================================\n",
      "\n",
      "Test case: 1\n"
     ]
    },
    {
     "name": "stdin",
     "output_type": "stream",
     "text": [
      "Enter array:  1,2,0,1,0,4,0\n"
     ]
    },
    {
     "name": "stdout",
     "output_type": "stream",
     "text": [
      "Modified array: [1, 2, 1, 4, 0, 0, 0]\n"
     ]
    }
   ],
   "source": [
    "from typing import List\n",
    "\n",
    "def move_zeros(arr: List[int]) -> List[int]:\n",
    "    index = 0\n",
    "    for i in range(len(arr)):\n",
    "        if arr[i] != 0:\n",
    "            arr[i],arr[index] = arr[index],arr[i]\n",
    "            index += 1\n",
    "    return arr\n",
    "\n",
    "if __name__ == \"__main__\":\n",
    "    t = int(input(\"Enter number of test cases: \"))\n",
    "    print(\"====================================================\")\n",
    "    for _ in range(t):\n",
    "        print()\n",
    "        print(f\"Test case: {_+1}\")\n",
    "        arr = list(map(int,input(\"Enter array: \").split(\",\")))\n",
    "        print(f\"Modified array: {move_zeros(arr)}\")\n",
    "        "
   ]
  },
  {
   "cell_type": "raw",
   "id": "aa604ab8-1032-47b5-8d4e-1720e01d83e6",
   "metadata": {},
   "source": []
  },
  {
   "cell_type": "markdown",
   "id": "4e351ee9-b70d-44b2-a453-8f566acb0fba",
   "metadata": {},
   "source": [
    "# Linear Search\n",
    "## Problem Statement: \n",
    "Given an array, and an element num the task is to find if num is present in the given array or not. If present print the index of the element or print -1."
   ]
  },
  {
   "cell_type": "raw",
   "id": "a9c8504f-4267-4ca2-aa5f-1fca5b0d00aa",
   "metadata": {},
   "source": [
    "Example 1:\n",
    "Input: arr[]= 1 2 3 4 5, num = 3\n",
    "Output: 2\n",
    "Explanation: 3 is present in the 2nd index\n",
    "\n",
    "Example 2:\n",
    "Input: arr[]= 5 4 3 2 1, num = 5\n",
    "Output: 0\n",
    "Explanation: 5 is present in the 0th index"
   ]
  },
  {
   "cell_type": "code",
   "execution_count": 14,
   "id": "cd401eae-ea6b-4c19-aead-74ac6feb8bc9",
   "metadata": {},
   "outputs": [
    {
     "name": "stdin",
     "output_type": "stream",
     "text": [
      "Enter number of test cases:  2\n"
     ]
    },
    {
     "name": "stdout",
     "output_type": "stream",
     "text": [
      "====================================================\n",
      "\n",
      "Test case: 1\n"
     ]
    },
    {
     "name": "stdin",
     "output_type": "stream",
     "text": [
      "Enter array:  1,2,3,4,5\n",
      "Enter the target:  3\n"
     ]
    },
    {
     "name": "stdout",
     "output_type": "stream",
     "text": [
      "3 is present at index: 3. \n",
      "\n",
      "Test case: 2\n"
     ]
    },
    {
     "name": "stdin",
     "output_type": "stream",
     "text": [
      "Enter array:  5,4,3,2,1\n",
      "Enter the target:  5\n"
     ]
    },
    {
     "name": "stdout",
     "output_type": "stream",
     "text": [
      "5 is present at index: 1. \n"
     ]
    }
   ],
   "source": [
    "from typing import List\n",
    "\n",
    "def linear_search(arr: List[int], num: int) -> int:\n",
    "    for i in range(len(arr)):\n",
    "        if arr[i] == num:\n",
    "            return i+1\n",
    "    return -1    \n",
    "\n",
    "if __name__ == \"__main__\":\n",
    "    t = int(input(\"Enter number of test cases: \"))\n",
    "    print(\"====================================================\")\n",
    "    for _ in range(t):\n",
    "        print()\n",
    "        print(f\"Test case: {_+1}\")\n",
    "        arr = list(map(int,input(\"Enter array: \").split(\",\")))\n",
    "        num = int(input(\"Enter the target: \"))\n",
    "        print(f\"target {num} is present at the index: {linear_search(arr,num)}\")\n",
    "        "
   ]
  },
  {
   "cell_type": "raw",
   "id": "b99e0a35-d2ce-4b60-81b0-406a60f8dd83",
   "metadata": {},
   "source": []
  },
  {
   "cell_type": "markdown",
   "id": "ab11f508-ff9e-4037-9e5a-1dde76ebff14",
   "metadata": {},
   "source": [
    "# Find the Union\n",
    "## Problem Statement: \n",
    "Given two sorted arrays, arr1, and arr2 of size n and m. Find the union of two sorted arrays.\r\n",
    "\r\n",
    "The union of two arrays can be defined as the common and distinct elements in the two arrays.NOTE: Elements in the union should be in ascending order."
   ]
  },
  {
   "cell_type": "raw",
   "id": "20e2a804-359b-4b78-80ae-e86ad213c97f",
   "metadata": {},
   "source": [
    "Example 1:\n",
    "Input:\n",
    "\n",
    "n = 5,m = 5.\n",
    "arr1[] = {1,2,3,4,5}  \n",
    "arr2[] = {2,3,4,4,5}\n",
    "Output: {1,2,3,4,5}\n",
    "\n",
    "Explanation: \n",
    "Common Elements in arr1 and arr2  are:  2,3,4,5\n",
    "Distnict Elements in arr1 are : 1\n",
    "Distnict Elemennts in arr2 are : No distinct elements.\n",
    "Union of arr1 and arr2 is {1,2,3,4,5} \n",
    "\n",
    "Example 2:\n",
    "Input:\n",
    "\n",
    "n = 10,m = 7.\n",
    "arr1[] = {1,2,3,4,5,6,7,8,9,10}\n",
    "arr2[] = {2,3,4,4,5,11,12}\n",
    "Output: {1,2,3,4,5,6,7,8,9,10,11,12}\n",
    "Explanation:\n",
    "Common Elements in arr1 and arr2  are:  2,3,4,5\n",
    "Distnict Elements in arr1 are : 1,6,7,8,9,10\n",
    "Distnict Elemennts in arr2 are : 11,12\n",
    "Union of arr1 and arr2 is {1,2,3,4,5,6,7,8,9,10,11,12} "
   ]
  },
  {
   "cell_type": "code",
   "execution_count": 50,
   "id": "b232007d-561c-4428-9f2a-0ce616524f31",
   "metadata": {},
   "outputs": [
    {
     "name": "stdin",
     "output_type": "stream",
     "text": [
      "Enter number of test cases:  2\n"
     ]
    },
    {
     "name": "stdout",
     "output_type": "stream",
     "text": [
      "====================================================\n",
      "\n",
      "Test case: 1\n"
     ]
    },
    {
     "name": "stdin",
     "output_type": "stream",
     "text": [
      "Enter array 1:  1,2,3,4,5\n",
      "Enter array 2:  2,3,4,4,5\n"
     ]
    },
    {
     "name": "stdout",
     "output_type": "stream",
     "text": [
      "[1]\n",
      "Union of arr1 & arr2 is : [1, 2, 3, 4, 5]\n",
      "\n",
      "Test case: 2\n"
     ]
    },
    {
     "name": "stdin",
     "output_type": "stream",
     "text": [
      "Enter array 1:  1,2,3,4,5,6,7,8,9,10\n",
      "Enter array 2:  2,3,4,4,5,11,12\n"
     ]
    },
    {
     "name": "stdout",
     "output_type": "stream",
     "text": [
      "[1]\n",
      "Union of arr1 & arr2 is : [1, 2, 3, 4, 5, 6, 7, 8, 9, 10, 11, 12]\n"
     ]
    }
   ],
   "source": [
    "from typing import List\n",
    "def union(arr1 : List[int], arr2 : List[int]) -> List[int]:  # 1,2,3,4,5 # 2,3,4,4,4,5,6\n",
    "    index1 = 0\n",
    "    index2 = 0\n",
    "    union_array = [min(arr1[index1],arr2[index2])]\n",
    "    print(union_array)\n",
    "    while(index1 < len(arr1) and index2 < len(arr2)):\n",
    "        if arr1[index1] <= arr2[index2]:\n",
    "            if union_array[-1] != arr1[index1]:\n",
    "                union_array.append(arr1[index1])\n",
    "            index1 += 1\n",
    "        elif arr1[index1] >= arr2[index2]:\n",
    "            if union_array[-1] != arr2[index2]:\n",
    "                union_array.append(arr2[index2])\n",
    "            index2 += 1\n",
    "    while(index1 < len(arr1)):\n",
    "        if union_array[-1] != arr1[index1]:\n",
    "                union_array.append(arr1[index1])\n",
    "        index1 += 1\n",
    "    while(index2 < len(arr2)):\n",
    "        if union_array[-1] != arr2[index2]:\n",
    "                union_array.append(arr2[index2])\n",
    "        index2 += 1\n",
    "    return union_array\n",
    "\n",
    "if __name__ == \"__main__\":\n",
    "    t = int(input(\"Enter number of test cases: \"))\n",
    "    print(\"====================================================\")\n",
    "    for _ in range(t):\n",
    "        print()\n",
    "        print(f\"Test case: {_+1}\")\n",
    "        arr1 = list(map(int,input(\"Enter array 1: \").split(\",\")))\n",
    "        arr2 = list(map(int,input(\"Enter array 2: \").split(\",\")))\n",
    "        union_array = union(arr1,arr2)\n",
    "        print(f\"Union of arr1 & arr2 is : {union_array}\")"
   ]
  },
  {
   "cell_type": "raw",
   "id": "343f58be-0d22-47b2-b412-0259ef1c2595",
   "metadata": {},
   "source": []
  },
  {
   "cell_type": "markdown",
   "id": "90a2cfec-1934-4129-b7e8-82393b00c95d",
   "metadata": {},
   "source": [
    "# Find the missing number in an array\n",
    "## Problem Statement: \n",
    "Given an integer N and an array of size N-1 containing N-1 numbers between 1 to N. Find the number(between 1 to N), that is not present in the given array."
   ]
  },
  {
   "cell_type": "raw",
   "id": "2ba60e77-ff56-4108-b61e-4caa668293de",
   "metadata": {},
   "source": [
    "Example 1:\n",
    "Input Format: N = 5, array[] = {1,2,4,5}\n",
    "Result: 3\n",
    "Explanation: In the given array, number 3 is missing. So, 3 is the answer.\n",
    "\n",
    "Example 2:\n",
    "Input Format: N = 3, array[] = {1,3}\n",
    "Result: 2\n",
    "Explanation: In the given array, number 2 is missing. So, 2 is the answer."
   ]
  },
  {
   "cell_type": "code",
   "execution_count": 68,
   "id": "aa713c27-2f6d-4abe-ba76-a40d040ec02e",
   "metadata": {},
   "outputs": [
    {
     "name": "stdin",
     "output_type": "stream",
     "text": [
      "Enter number of test cases:  1\n"
     ]
    },
    {
     "name": "stdout",
     "output_type": "stream",
     "text": [
      "====================================================\n",
      "\n",
      "Test case: 1\n"
     ]
    },
    {
     "name": "stdin",
     "output_type": "stream",
     "text": [
      "Enter array 1:  1,2,4,5\n",
      "enter the number of elements:  5\n"
     ]
    },
    {
     "name": "stdout",
     "output_type": "stream",
     "text": [
      "In the given array, number 3 is missing.\n"
     ]
    }
   ],
   "source": [
    "from typing import List\n",
    "\n",
    "def missing_number(arr: List[int], n : int) -> int:\n",
    "    return (n*(n+1))//2 - sum(arr)\n",
    "\n",
    "if __name__ == \"__main__\":\n",
    "    t = int(input(\"Enter number of test cases: \"))\n",
    "    print(\"====================================================\")\n",
    "    for _ in range(t):\n",
    "        print()\n",
    "        print(f\"Test case: {_+1}\")\n",
    "        arr = list(map(int,input(\"Enter array 1: \").split(\",\")))\n",
    "        n = int(input(\"enter the number of elements: \"))\n",
    "        print(f\"In the given array, number {missing_number(arr,n)} is missing.\")"
   ]
  },
  {
   "cell_type": "raw",
   "id": "d7f7ca27-7967-4451-84a2-78f6efb78d3c",
   "metadata": {},
   "source": []
  },
  {
   "cell_type": "markdown",
   "id": "5bd4cb5b-72c3-4a80-900e-ef3d659c24d3",
   "metadata": {},
   "source": [
    "# Maximum Consecutive Ones\n",
    "## Problem Statement: \n",
    "Given an array that contains only 1 and 0 return the count of maximum consecutive ones in the array."
   ]
  },
  {
   "cell_type": "raw",
   "id": "1bd4e705-5f81-48c7-b671-afe66d732dea",
   "metadata": {},
   "source": [
    "Example 1:\n",
    "\n",
    "Input: prices = {1, 1, 0, 1, 1, 1}\n",
    "\n",
    "Output: 3\n",
    "\n",
    "Explanation: There are two consecutive 1’s and three consecutive 1’s in the array out of which maximum is 3.\n",
    "\n",
    "Input: prices = {1, 0, 1, 1, 0, 1} \n",
    "\n",
    "Output: 2\n",
    "\n",
    "Explanation: There are two consecutive 1's in the array. "
   ]
  },
  {
   "cell_type": "code",
   "execution_count": 1,
   "id": "f2420699-2f0a-4375-9aed-9c0af2761264",
   "metadata": {},
   "outputs": [
    {
     "name": "stdin",
     "output_type": "stream",
     "text": [
      "Enter number of test cases:  2\n"
     ]
    },
    {
     "name": "stdout",
     "output_type": "stream",
     "text": [
      "====================================================\n",
      "\n",
      "Test case: 1\n"
     ]
    },
    {
     "name": "stdin",
     "output_type": "stream",
     "text": [
      "Enter array 1:  1, 1, 0, 1, 1, 1\n"
     ]
    },
    {
     "name": "stdout",
     "output_type": "stream",
     "text": [
      "There are max 3 consecutive 1s in the array.\n",
      "\n",
      "Test case: 2\n"
     ]
    },
    {
     "name": "stdin",
     "output_type": "stream",
     "text": [
      "Enter array 1:  1, 0, 1, 1, 0, 1\n"
     ]
    },
    {
     "name": "stdout",
     "output_type": "stream",
     "text": [
      "There are max 2 consecutive 1s in the array.\n"
     ]
    }
   ],
   "source": [
    "from typing import List\n",
    "\n",
    "def max_consecutive_ones(arr):\n",
    "    count = 0\n",
    "    max_count = 0\n",
    "    for i in arr:\n",
    "        if i == 1:\n",
    "            count += 1\n",
    "            max_count = max(count,max_count)\n",
    "        elif i == 0:\n",
    "            count = 0\n",
    "    return max_count\n",
    "    \n",
    "\n",
    "if __name__ == \"__main__\":\n",
    "    t = int(input(\"Enter number of test cases: \"))\n",
    "    print(\"====================================================\")\n",
    "    for _ in range(t):\n",
    "        print()\n",
    "        print(f\"Test case: {_+1}\")\n",
    "        arr = list(map(int,input(\"Enter array 1: \").split(\",\")))\n",
    "        print(f\"There are max {max_consecutive_ones(arr)} consecutive 1s in the array.\")\n",
    "        "
   ]
  },
  {
   "cell_type": "raw",
   "id": "ee89e244-30b8-4b26-ab81-b01f9d23a53d",
   "metadata": {},
   "source": []
  },
  {
   "cell_type": "markdown",
   "id": "f1b12883-b8d2-4597-aa35-ad96f1a6dd15",
   "metadata": {},
   "source": [
    "# Find the number that appears once, and the other numbers twice\n",
    "## Problem Statement: \n",
    "Given a non-empty array of integers arr, every element appears twice except for one. Find that single one."
   ]
  },
  {
   "cell_type": "raw",
   "id": "9e77a516-423a-4af3-a4bc-1a1cc2d61444",
   "metadata": {},
   "source": [
    "Example 1:\n",
    "Input Format: arr[] = {2,2,1}\n",
    "Result: 1\n",
    "Explanation: In this array, only the element 1 appear once and so it is the answer.\n",
    "\n",
    "Example 2:\n",
    "Input Format: arr[] = {4,1,2,1,2}\n",
    "Result: 4\n",
    "Explanation: In this array, only element 4 appear once and the other elements appear twice. So, 4 is the answer."
   ]
  },
  {
   "cell_type": "code",
   "execution_count": 17,
   "id": "28ce5c40-d8df-4622-b282-bad5ba2a0b7b",
   "metadata": {},
   "outputs": [
    {
     "name": "stdin",
     "output_type": "stream",
     "text": [
      "Enter number of test cases:  2\n"
     ]
    },
    {
     "name": "stdout",
     "output_type": "stream",
     "text": [
      "====================================================\n",
      "\n",
      "Test case: 1\n"
     ]
    },
    {
     "name": "stdin",
     "output_type": "stream",
     "text": [
      "Enter array 1:  2,2,1\n"
     ]
    },
    {
     "name": "stdout",
     "output_type": "stream",
     "text": [
      "1 appears only once.\n",
      "\n",
      "Test case: 2\n"
     ]
    },
    {
     "name": "stdin",
     "output_type": "stream",
     "text": [
      "Enter array 1:  4,1,2,1,2\n"
     ]
    },
    {
     "name": "stdout",
     "output_type": "stream",
     "text": [
      "4 appears only once.\n"
     ]
    }
   ],
   "source": [
    "from typing import List\n",
    "\n",
    "def one_number(arr: List[int]) -> int:\n",
    "    answer = 0\n",
    "    for i in arr:\n",
    "        answer = answer^i\n",
    "    return answer\n",
    "\n",
    "if __name__ == \"__main__\":\n",
    "    t = int(input(\"Enter number of test cases: \"))\n",
    "    print(\"====================================================\")\n",
    "    for _ in range(t):\n",
    "        print()\n",
    "        print(f\"Test case: {_+1}\")\n",
    "        arr = list(map(int,input(\"Enter array 1: \").split(\",\")))\n",
    "        print(f\"{one_number(arr)} appears only once.\")"
   ]
  },
  {
   "cell_type": "raw",
   "id": "733ebb26-b0ac-4930-b9f5-0c541e5d1581",
   "metadata": {},
   "source": []
  },
  {
   "cell_type": "markdown",
   "id": "2d298fb7-0ec7-4150-9d32-544d89e32890",
   "metadata": {},
   "source": [
    "# Longest subarray with given sum K(positives)\n",
    "## Problem Statement: \n",
    "Given an array and a sum k, we need to print the length of the longest subarray that sums to k."
   ]
  },
  {
   "cell_type": "raw",
   "id": "94922dd2-c2f6-408c-b074-12509b1dd95a",
   "metadata": {},
   "source": [
    "Example 1:\n",
    "Input Format: N = 3, k = 5, array[] = {2,3,5}\n",
    "Result: 2\n",
    "Explanation: The longest subarray with sum 5 is {2, 3}. And its length is 2.\n",
    "\n",
    "Example 2:\n",
    "Input Format: N = 5, k = 10, array[] = {2,3,5,1,9}\n",
    "Result: 3\n",
    "Explanation: The longest subarray with sum 10 is {2, 3, 5}. And its length is 3."
   ]
  },
  {
   "cell_type": "code",
   "execution_count": 233,
   "id": "3ffac79f-fb84-48c0-9b45-4ed306e6a3b9",
   "metadata": {},
   "outputs": [
    {
     "name": "stdin",
     "output_type": "stream",
     "text": [
      "Enter number of test cases:  1\n"
     ]
    },
    {
     "name": "stdout",
     "output_type": "stream",
     "text": [
      "====================================================\n",
      "\n",
      "Test case: 1\n"
     ]
    },
    {
     "name": "stdin",
     "output_type": "stream",
     "text": [
      "Enter array 1:  1,1,1,1,1,1,0,0,0,0,00,0,1,1,1,2,1,1,4,5,6,7,2\n",
      "Enter K:  11\n"
     ]
    },
    {
     "name": "stdout",
     "output_type": "stream",
     "text": [
      "fist k:15\n",
      "The longest k subarray is: 16\n"
     ]
    }
   ],
   "source": [
    "from typing import List\n",
    "\n",
    "def kadanes(arr: List[int],k: int) -> int: #1,9,2,3,5\n",
    "    prefix = {}\n",
    "    sum = 0\n",
    "    max_length = 0\n",
    "    for i in range(len(arr)):\n",
    "        sum += arr[i]\n",
    "        if sum not in prefix:\n",
    "            prefix[sum] = i\n",
    "        if sum == k:\n",
    "            max_length = max(max_length, i+1)\n",
    "        rem = sum-k\n",
    "        if rem in prefix:\n",
    "            max_length = max(max_length, i - prefix[sum-k])\n",
    "    return max_length\n",
    "    \n",
    "        \n",
    "if __name__ == \"__main__\":\n",
    "    t = int(input(\"Enter number of test cases: \"))\n",
    "    print(\"====================================================\")\n",
    "    for _ in range(t):\n",
    "        print()\n",
    "        print(f\"Test case: {_+1}\")\n",
    "        arr = list(map(int,input(\"Enter array 1: \").split(\",\")))\n",
    "        k = int(input(\"Enter K: \"))\n",
    "        print(f\"The longest k subarray is: {kadanes(arr,k)}\")\n",
    "        "
   ]
  },
  {
   "cell_type": "markdown",
   "id": "5dd516ee-9a98-4d4a-8ed4-6a0d76c7e027",
   "metadata": {},
   "source": [
    "## Second optimal method using 2 pointers"
   ]
  },
  {
   "cell_type": "code",
   "execution_count": 31,
   "id": "dea26d63-e5a4-4600-85a3-26293ff1e85f",
   "metadata": {},
   "outputs": [
    {
     "name": "stdout",
     "output_type": "stream",
     "text": [
      "[1]\n",
      "[1, 2]\n",
      "[2]\n",
      "[1, 2, 3]\n",
      "[2, 3]\n",
      "[3]\n",
      "None\n"
     ]
    }
   ],
   "source": [
    "def generate_all_subarrays(arr):\n",
    "    for i in range(len(arr)):\n",
    "        for j in range(i):\n",
    "            print(arr[j:i])\n",
    "print(generate_all_subarrays([1,2,3,4]))"
   ]
  },
  {
   "cell_type": "code",
   "execution_count": 231,
   "id": "42199ab1-f2b6-4710-92db-dd3cdaaef1da",
   "metadata": {},
   "outputs": [
    {
     "name": "stdin",
     "output_type": "stream",
     "text": [
      "Enter number of test cases:  1\n"
     ]
    },
    {
     "name": "stdout",
     "output_type": "stream",
     "text": [
      "====================================================\n",
      "\n",
      "Test case: 1\n"
     ]
    },
    {
     "name": "stdin",
     "output_type": "stream",
     "text": [
      "Enter array 1:  1,1,1,1,1,1,0,0,0,0,00,0,1,1,1,2,1,1,4,5,6,7,2\n",
      "Enter K:  11\n"
     ]
    },
    {
     "name": "stdout",
     "output_type": "stream",
     "text": [
      "[1, 1, 1, 1, 1, 1, 0, 0, 0, 0, 0, 0, 1, 1, 1, 2] 16\n",
      "[1, 1, 1, 1, 1, 0, 0, 0, 0, 0, 0, 1, 1, 1, 2, 1] 16\n",
      "[1, 1, 1, 1, 0, 0, 0, 0, 0, 0, 1, 1, 1, 2, 1, 1] 16\n",
      "[0, 0, 0, 0, 0, 0, 1, 1, 1, 2, 1, 1, 4] 13\n",
      "[1, 1, 4, 5] 4\n",
      "[5, 6] 2\n",
      "The longest k subarray is: 16\n"
     ]
    }
   ],
   "source": [
    "from typing import List\n",
    "\n",
    "def kadanes2(arr: List[int],k: int) -> int: #1,9,2,3,5,1,1,1,1,1,0\n",
    "    right, left = 0,0\n",
    "    maxlen = 0\n",
    "    n = len(arr)\n",
    "    sum = 0\n",
    "    while right < n and left < n:\n",
    "        if sum <= k:\n",
    "            sum += arr[right]\n",
    "            right += 1\n",
    "        else:\n",
    "            sum -= arr[left]\n",
    "            left += 1\n",
    "        if sum == k:\n",
    "            maxlen = max(maxlen,right-left)\n",
    "            print(arr[left:right],len(arr[left:right]))\n",
    "    return maxlen\n",
    "        \n",
    "\n",
    "\n",
    "     \n",
    "if __name__ == \"__main__\":\n",
    "    t = int(input(\"Enter number of test cases: \"))\n",
    "    print(\"====================================================\")\n",
    "    for _ in range(t):\n",
    "        print()\n",
    "        print(f\"Test case: {_+1}\")\n",
    "        arr = list(map(int,input(\"Enter array 1: \").split(\",\")))\n",
    "        k = int(input(\"Enter K: \"))\n",
    "        print(f\"The longest k subarray is: {kadanes2(arr,k)}\")\n",
    "        "
   ]
  }
 ],
 "metadata": {
  "kernelspec": {
   "display_name": "Python 3 (ipykernel)",
   "language": "python",
   "name": "python3"
  },
  "language_info": {
   "codemirror_mode": {
    "name": "ipython",
    "version": 3
   },
   "file_extension": ".py",
   "mimetype": "text/x-python",
   "name": "python",
   "nbconvert_exporter": "python",
   "pygments_lexer": "ipython3",
   "version": "3.12.4"
  }
 },
 "nbformat": 4,
 "nbformat_minor": 5
}
