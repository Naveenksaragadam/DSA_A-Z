{
 "cells": [
  {
   "cell_type": "markdown",
   "id": "08e4b2a8-f7bf-4948-9c7e-7bf8c318b2b1",
   "metadata": {},
   "source": [
    "# Two Sum : Check if a pair with given sum exists in Array\n",
    "## Problem Statement: \n",
    "Given an array of integers arr[] and an integer target.\r\n",
    "\r\n",
    "1st variant: Return YES if there exist two numbers such that their sum is equal to the target. Otherwise, return NO.\r\n",
    "\r\n",
    "2nd variant: Return indices of the two numbers such that their sum is equal to the target. Otherwise, we will return {-1, -1}.\r\n",
    "\r\n",
    "Note: You are not allowed to use the same element twice. Example: If the target is equal to 6 and num[1] = 3, then nums[1] + nums[1] = target is not a solution."
   ]
  },
  {
   "cell_type": "raw",
   "id": "8cb57036-e8ce-417f-ae8f-70575160758e",
   "metadata": {},
   "source": [
    "Example 1:\n",
    "Input Format: N = 5, arr[] = {2,6,5,8,11}, target = 14\n",
    "Result: YES (for 1st variant)\n",
    "       [1, 3] (for 2nd variant)\n",
    "Explanation: arr[1] + arr[3] = 14. So, the answer is “YES” for the first variant and [1, 3] for 2nd variant.\n",
    "\n",
    "Example 2:\n",
    "Input Format: N = 5, arr[] = {2,6,5,8,11}, target = 15\n",
    "Result: NO (for 1st variant)\n",
    "\t[-1, -1] (for 2nd variant)\n",
    "Explanation: There exist no such two numbers whose sum is equal to the target."
   ]
  },
  {
   "cell_type": "code",
   "execution_count": 67,
   "id": "2e58907f-526b-4be5-bcb0-e34e1b93406a",
   "metadata": {},
   "outputs": [
    {
     "name": "stdin",
     "output_type": "stream",
     "text": [
      "Enter number of test cases:  1\n"
     ]
    },
    {
     "name": "stdout",
     "output_type": "stream",
     "text": [
      "====================================================\n",
      "\n",
      "Test case: 1\n"
     ]
    },
    {
     "name": "stdin",
     "output_type": "stream",
     "text": [
      "Enter array:  2,6,8,11\n",
      "Enter target:  14\n"
     ]
    },
    {
     "name": "stdout",
     "output_type": "stream",
     "text": [
      "Sum possilble\n"
     ]
    }
   ],
   "source": [
    "from typing import List\n",
    "\n",
    "def twoSum(arr: List[int],target: int) -> bool:\n",
    "    reminder_dic = {}\n",
    "    \n",
    "    reminder_dic = {}\n",
    "    for i in range(len(arr)):\n",
    "        rem = target-arr[i]\n",
    "        if rem in reminder_dic:\n",
    "            return True\n",
    "        else:\n",
    "            reminder_dic[arr[i]] = i\n",
    "    return False\n",
    "\n",
    "if __name__ == \"__main__\":\n",
    "    t = int(input(\"Enter number of test cases: \"))\n",
    "    print(\"====================================================\")\n",
    "    for _ in range(t):\n",
    "        print()\n",
    "        print(f\"Test case: {_+1}\")\n",
    "        arr = list(map(int,input(\"Enter array: \").split(\",\")))\n",
    "        target = int(input(\"Enter target: \"))\n",
    "        if twoSum(arr,target):\n",
    "            print(\"Sum possilble\")\n",
    "        else:\n",
    "            print(\"Sum not possible\")"
   ]
  },
  {
   "cell_type": "raw",
   "id": "c16b4424-7f5b-4d78-879e-6222ee190812",
   "metadata": {},
   "source": []
  },
  {
   "cell_type": "markdown",
   "id": "17a185e0-87f0-4445-b79f-44921b0ca5dd",
   "metadata": {},
   "source": [
    "### Printing Values "
   ]
  },
  {
   "cell_type": "code",
   "execution_count": 81,
   "id": "26319ddc-85d3-47e4-9327-f13fcca7125f",
   "metadata": {},
   "outputs": [
    {
     "name": "stdin",
     "output_type": "stream",
     "text": [
      "Enter number of test cases:  1\n"
     ]
    },
    {
     "name": "stdout",
     "output_type": "stream",
     "text": [
      "====================================================\n",
      "\n",
      "Test case: 1\n"
     ]
    },
    {
     "name": "stdin",
     "output_type": "stream",
     "text": [
      "Enter array:  2,6,5,8,11\n",
      "Enter target:  14\n"
     ]
    },
    {
     "name": "stdout",
     "output_type": "stream",
     "text": [
      "sum is possible with elements(1, 3)\n"
     ]
    }
   ],
   "source": [
    "from typing import List\n",
    "\n",
    "def twoSum2(arr: List[int], target: int) -> List[int]:\n",
    "        reminder_dic = {}\n",
    "        for i in range(len(arr)):\n",
    "            rem = target-arr[i]\n",
    "            if rem in reminder_dic:\n",
    "                return (reminder_dic[rem],i)\n",
    "            else:\n",
    "                reminder_dic[arr[i]] = i\n",
    "        return [-1,-1]\n",
    "if __name__ == \"__main__\":\n",
    "    t = int(input(\"Enter number of test cases: \"))\n",
    "    print(\"====================================================\")\n",
    "    for _ in range(t):\n",
    "        print()\n",
    "        print(f\"Test case: {_+1}\")\n",
    "        arr = list(map(int,input(\"Enter array: \").split(\",\")))\n",
    "        target = int(input(\"Enter target: \"))\n",
    "        print(f\"sum is possible with elements{twoSum2(arr,target)}\")\n"
   ]
  },
  {
   "cell_type": "raw",
   "id": "6f510ad0-224b-41ef-a1ec-f208ad90c1e8",
   "metadata": {},
   "source": []
  },
  {
   "cell_type": "markdown",
   "id": "fea843df-410e-4456-9b65-a45d3abd4c24",
   "metadata": {},
   "source": [
    "## Two sum Optimal space"
   ]
  },
  {
   "cell_type": "code",
   "execution_count": 462,
   "id": "f3959725-a2f6-42dd-be83-85583b481a51",
   "metadata": {},
   "outputs": [
    {
     "name": "stdin",
     "output_type": "stream",
     "text": [
      "Enter number of test cases:  1\n"
     ]
    },
    {
     "name": "stdout",
     "output_type": "stream",
     "text": [
      "====================================================\n",
      "\n",
      "Test case: 1\n"
     ]
    },
    {
     "name": "stdin",
     "output_type": "stream",
     "text": [
      "Enter array:  2,6,5,8,11\n",
      "Enter target:  14\n"
     ]
    },
    {
     "name": "stdout",
     "output_type": "stream",
     "text": [
      "Posible answer: (6, 8)\n"
     ]
    }
   ],
   "source": [
    "from typing import List, Tuple \n",
    "\n",
    "def two_sum3(arr: List[int],target: int) -> Tuple[int,int]: # 2,6,5,8,11\n",
    "    arr.sort()\n",
    "    i = 0\n",
    "    j = len(arr)-1\n",
    "    sum = 0\n",
    "    while i < j:\n",
    "        sum = arr[i] + arr[j]\n",
    "        if sum == target:\n",
    "            return arr[i],arr[j]\n",
    "        if sum < target:\n",
    "            i += 1\n",
    "        else:\n",
    "            j -= 1\n",
    "    return [-1,-1]\n",
    "    \n",
    "if __name__ == \"__main__\":\n",
    "    t = int(input(\"Enter number of test cases: \"))\n",
    "    print(\"====================================================\")\n",
    "    for _ in range(t):\n",
    "        print()\n",
    "        print(f\"Test case: {_+1}\")\n",
    "        arr = list(map(int,input(\"Enter array: \").split(\",\")))\n",
    "        target = int(input(\"Enter target: \"))\n",
    "        print(f\"Posible answer: {two_sum3(arr,target)}\")\n",
    "             "
   ]
  },
  {
   "cell_type": "code",
   "execution_count": null,
   "id": "86a5176a-1222-44d3-926d-1dcae7f59624",
   "metadata": {},
   "outputs": [],
   "source": []
  },
  {
   "cell_type": "markdown",
   "id": "8e0a399d-bece-46a8-a36c-0b3c2177b643",
   "metadata": {},
   "source": [
    "# Sort an array of 0's 1's and 2's\n",
    "## Problem Statement: \n",
    "Given an array consisting of only 0s, 1s, and 2s. Write a program to in-place sort the array without using inbuilt sort functions. ( Expected: Single pass-O(N) and constant space)"
   ]
  },
  {
   "cell_type": "raw",
   "id": "63546274-5fd0-4903-880f-c891492f5a1d",
   "metadata": {},
   "source": [
    "Input: nums = [2,0,2,1,1,0]\n",
    "Output: [0,0,1,1,2,2]\n",
    "\n",
    "Input: nums = [2,0,1]\n",
    "Output: [0,1,2]\n",
    "\n",
    "Input: nums = [0]\n",
    "Output: [0]"
   ]
  },
  {
   "cell_type": "code",
   "execution_count": 452,
   "id": "6123d7e1-8730-4320-9231-80ac4b992408",
   "metadata": {},
   "outputs": [
    {
     "name": "stdin",
     "output_type": "stream",
     "text": [
      "Enter number of test cases:  1\n"
     ]
    },
    {
     "name": "stdout",
     "output_type": "stream",
     "text": [
      "====================================================\n",
      "\n",
      "Test case: 1\n"
     ]
    },
    {
     "name": "stdin",
     "output_type": "stream",
     "text": [
      "Enter array:  0,1,1,1,0,0,0,2,2,2,1,1,1,0,0\n"
     ]
    },
    {
     "name": "stdout",
     "output_type": "stream",
     "text": [
      "Count sorted array: [0, 0, 0, 0, 0, 0, 1, 1, 1, 1, 1, 1, 2, 2, 2]\n"
     ]
    }
   ],
   "source": [
    "from typing import List\n",
    "\n",
    "def CountSort1(arr):\n",
    "    count_0, count_1, count_2 = 0,0,0\n",
    "    for i in arr:\n",
    "        if i == 0:\n",
    "            count_0 += 1\n",
    "        elif i == 1:\n",
    "            count_1 += 1\n",
    "        else:\n",
    "            count_2 += 1\n",
    "    for i in range(count_0):\n",
    "        arr[i] = 0\n",
    "    for j in range(count_0,count_0+count_1):\n",
    "        arr[j] = 1\n",
    "    for k in range(count_0+count_1,len(arr)):\n",
    "        arr[k] = 2\n",
    "\n",
    "    return arr\n",
    "    \n",
    "if __name__ == \"__main__\":\n",
    "    t = int(input(\"Enter number of test cases: \"))\n",
    "    print(\"====================================================\")\n",
    "    for _ in range(t):\n",
    "        print()\n",
    "        print(f\"Test case: {_+1}\")\n",
    "        arr = list(map(int,input(\"Enter array: \").split(\",\")))\n",
    "        print(f\"Count sorted array: {CountSort1(arr)}\")"
   ]
  },
  {
   "cell_type": "code",
   "execution_count": null,
   "id": "2439e569-89c3-4b2a-a191-0c07402dfc8d",
   "metadata": {},
   "outputs": [],
   "source": []
  },
  {
   "cell_type": "markdown",
   "id": "b412cb8e-e35f-4bae-9736-3f9fdc593866",
   "metadata": {},
   "source": [
    "### Dutch National Flag Algorithm"
   ]
  },
  {
   "cell_type": "code",
   "execution_count": 466,
   "id": "7490d310-99a9-4490-9ab9-f3c598d55015",
   "metadata": {},
   "outputs": [
    {
     "name": "stdin",
     "output_type": "stream",
     "text": [
      "Enter number of test cases:  1\n"
     ]
    },
    {
     "name": "stdout",
     "output_type": "stream",
     "text": [
      "====================================================\n",
      "\n",
      "Test case: 1\n"
     ]
    },
    {
     "name": "stdin",
     "output_type": "stream",
     "text": [
      "Enter array:  0,1,1,1,0,0,0,2,2,2,1,1,1,0,0\n"
     ]
    },
    {
     "name": "stdout",
     "output_type": "stream",
     "text": [
      "DNF sorted array: [0, 0, 0, 0, 0, 0, 1, 1, 1, 1, 1, 1, 2, 2, 2]\n"
     ]
    }
   ],
   "source": [
    "from typing import List\n",
    "\n",
    "def CountSortDNF(arr): # 2,1,0,2,1,0\n",
    "    left,mid = 0,0 \n",
    "    right = len(arr)-1\n",
    "\n",
    "    while mid <= right:\n",
    "        if arr[mid] == 0:\n",
    "            arr[left],arr[mid] = arr[mid],arr[left]\n",
    "            left += 1\n",
    "            mid += 1\n",
    "        elif arr[mid] == 1:\n",
    "            mid += 1\n",
    "        elif arr[mid] == 2:\n",
    "            arr[right],arr[mid] = arr[mid],arr[right]\n",
    "            right -= 1\n",
    "    return arr\n",
    "\n",
    "if __name__ == \"__main__\":\n",
    "    t = int(input(\"Enter number of test cases: \"))\n",
    "    print(\"====================================================\")\n",
    "    for _ in range(t):\n",
    "        print()\n",
    "        print(f\"Test case: {_+1}\")\n",
    "        arr = list(map(int,input(\"Enter array: \").split(\",\")))\n",
    "        print(f\"DNF sorted array: {CountSortDNF(arr)}\")  "
   ]
  },
  {
   "cell_type": "raw",
   "id": "0c5f0a70-cb36-4857-8dd1-bca765eb7701",
   "metadata": {},
   "source": []
  },
  {
   "cell_type": "markdown",
   "id": "87449e49-7979-48eb-95db-a2c244b155b4",
   "metadata": {},
   "source": [
    "# Find the Majority Element that occurs more than N/2 times\n",
    "## Problem Statement: \n",
    "Given an array of N integers, write a program to return an element that occurs more than N/2 times in the given array. You may consider that such an element always exists in the array."
   ]
  },
  {
   "cell_type": "raw",
   "id": "5cfb7548-1344-47ea-aa89-e67c1c95b281",
   "metadata": {},
   "source": [
    "Example 1:\n",
    "Input Format: N = 3, nums[] = {3,2,3}\n",
    "Result: 3\n",
    "Explanation : When we just count the occurrences of each number and compare with half of the size of the array, you will get 3 for the above solution. \n",
    "\n",
    "Example 2:\n",
    "Input Format: N = 7, nums[] = {2,2,1,1,1,2,2}\n",
    "Result: 2\n",
    "Explanation: After counting the number of times each element appears and comparing it with half of array size, we get 2 as result.\n",
    "\n",
    "Example 3:\n",
    "Input Format:N = 10, nums[] = {4,4,2,4,3,4,4,3,2,4}\n",
    "Result: 4"
   ]
  },
  {
   "cell_type": "raw",
   "id": "86b69117-9a73-4b1a-af5f-0d2c8599bdc4",
   "metadata": {},
   "source": []
  },
  {
   "cell_type": "markdown",
   "id": "3e28a2e1-0a92-4759-aa9d-f5e4ee9b02f3",
   "metadata": {},
   "source": [
    "### Better Solution\n",
    "But Uses Space complexity"
   ]
  },
  {
   "cell_type": "code",
   "execution_count": 471,
   "id": "d1638077-ec80-4356-a3ca-43539169609e",
   "metadata": {},
   "outputs": [
    {
     "name": "stdin",
     "output_type": "stream",
     "text": [
      "Enter number of test cases:  1\n"
     ]
    },
    {
     "name": "stdout",
     "output_type": "stream",
     "text": [
      "====================================================\n",
      "\n",
      "Test case: 1\n"
     ]
    },
    {
     "name": "stdin",
     "output_type": "stream",
     "text": [
      "Enter array:  4,4,2,4,3,4,4,3,2,4\n"
     ]
    },
    {
     "name": "stdout",
     "output_type": "stream",
     "text": [
      "4 is the majority element in the given array.\n"
     ]
    }
   ],
   "source": [
    "from typing import List\n",
    "\n",
    "def MajorityElementBetter(arr: List[int]) -> int:\n",
    "    dc = {}\n",
    "    for i in arr:\n",
    "        if i in dc:\n",
    "            dc[i] += 1\n",
    "        else:\n",
    "            dc[i] = 1\n",
    "        if dc[i] >= (len(arr)/2):\n",
    "                return i\n",
    "    \n",
    "if __name__ == \"__main__\":\n",
    "    t = int(input(\"Enter number of test cases: \"))\n",
    "    print(\"====================================================\")\n",
    "    for _ in range(t):\n",
    "        print()\n",
    "        print(f\"Test case: {_+1}\")\n",
    "        arr = list(map(int,input(\"Enter array: \").split(\",\")))\n",
    "        print(f\"{MajorityElementBetter(arr)} is the majority element in the given array.\")\n",
    "            "
   ]
  },
  {
   "cell_type": "raw",
   "id": "4a5d2367-0798-44d1-9a5c-d44d13a8972c",
   "metadata": {},
   "source": []
  },
  {
   "cell_type": "markdown",
   "id": "fd999ed8-2054-413c-9864-c9988029f609",
   "metadata": {},
   "source": [
    "## Optimal Solution\n",
    "Uses Moore's voting algoritm"
   ]
  },
  {
   "cell_type": "code",
   "execution_count": 571,
   "id": "e2f6f2e5-66b5-4e22-a9e0-d95b40c31548",
   "metadata": {},
   "outputs": [
    {
     "name": "stdin",
     "output_type": "stream",
     "text": [
      "Enter number of test cases:  1\n"
     ]
    },
    {
     "name": "stdout",
     "output_type": "stream",
     "text": [
      "====================================================\n",
      "\n",
      "Test case: 1\n"
     ]
    },
    {
     "name": "stdin",
     "output_type": "stream",
     "text": [
      "Enter array:  1,3,1,1,4,1,1,5,1,1,6,2,2\n"
     ]
    },
    {
     "name": "stdout",
     "output_type": "stream",
     "text": [
      "1 is the majority element in the given array.\n"
     ]
    }
   ],
   "source": [
    "from typing import List\n",
    "def MooresVoting(arr: List[int]) -> int: #4,4,2,2,3,3,4,4,3,2,4,4,4,4\n",
    "    CurElement = arr[0]\n",
    "    Count = 1\n",
    "    for i in range(1,len(arr)-1):\n",
    "        if arr[i] != CurElement:\n",
    "            Count -= 1\n",
    "        else:\n",
    "            Count += 1\n",
    "        if Count <= 0:\n",
    "            Count = 0\n",
    "            CurElement = arr[i+1]\n",
    "            \n",
    "    return CurElement\n",
    "\n",
    "if __name__ == \"__main__\":\n",
    "    t = int(input(\"Enter number of test cases: \"))\n",
    "    print(\"====================================================\")\n",
    "    for _ in range(t):\n",
    "        print()\n",
    "        print(f\"Test case: {_+1}\")\n",
    "        arr = list(map(int,input(\"Enter array: \").split(\",\")))\n",
    "        print(f\"{MooresVoting(arr)} is the majority element in the given array.\")"
   ]
  },
  {
   "cell_type": "raw",
   "id": "83a844b4-28ef-4382-b4d5-30b0ebfbf304",
   "metadata": {},
   "source": []
  },
  {
   "cell_type": "markdown",
   "id": "3c1f900f-2625-48de-b244-99cd0011a15a",
   "metadata": {},
   "source": [
    "# Kadane's Algorithm : Maximum Subarray Sum in an Array\n",
    "## Problem Statement: \n",
    "Given an integer array arr, find the contiguous subarray (containing at least one number) which\r\n",
    "has the largest sum and returns its sum and prints the subarray."
   ]
  },
  {
   "cell_type": "raw",
   "id": "6f3fc23f-cad6-4e2d-afa5-30196596b9cb",
   "metadata": {},
   "source": [
    "Example 1:\n",
    "Input: arr = [-2,1,-3,4,-1,2,1,-5,4] \n",
    "Output: 6 \n",
    "Explanation: [4,-1,2,1] has the largest sum = 6. \n",
    "\n",
    "Examples 2:\n",
    "Input: arr = [1] \n",
    "Output: 1 \n",
    "Explanation: Array has only one element and which is giving positive sum of 1."
   ]
  },
  {
   "cell_type": "markdown",
   "id": "1e083771-8f4a-4577-a3e5-0a6a335d9adb",
   "metadata": {},
   "source": [
    "### Brute"
   ]
  },
  {
   "cell_type": "code",
   "execution_count": 639,
   "id": "06c4fb0d-8df2-41e4-a738-5306da6fe1ea",
   "metadata": {},
   "outputs": [
    {
     "data": {
      "text/plain": [
       "10"
      ]
     },
     "execution_count": 639,
     "metadata": {},
     "output_type": "execute_result"
    }
   ],
   "source": [
    "import sys\n",
    "def SubarraySumBrute(arr):\n",
    "    maxi = -sys.maxsize - 1\n",
    "    n = len(arr)\n",
    "    for i in range(n):\n",
    "        for j in range(i,n):\n",
    "            summ = 0\n",
    "            for k in range(i,j+1):\n",
    "                summ += arr[k]\n",
    "            maxi = max(maxi, summ)\n",
    "    return maxi\n",
    "            \n",
    "\n",
    "\n",
    "SubarraySumBrute([1,2,3,4])"
   ]
  },
  {
   "cell_type": "markdown",
   "id": "8607a2b0-0c34-4a92-be9d-f0c721217e07",
   "metadata": {},
   "source": [
    "### Better"
   ]
  },
  {
   "cell_type": "code",
   "execution_count": 645,
   "id": "e65a1b5d-87c5-4a6d-8460-9186356ab63c",
   "metadata": {},
   "outputs": [
    {
     "data": {
      "text/plain": [
       "10"
      ]
     },
     "execution_count": 645,
     "metadata": {},
     "output_type": "execute_result"
    }
   ],
   "source": [
    "def SubarraySumBetter(arr):\n",
    "    n = len(arr)\n",
    "    maxi = float(\"-inf\")\n",
    "    for i in range(n):\n",
    "        summ = 0\n",
    "        for j in range(i,n):\n",
    "            summ += arr[j]\n",
    "            maxi = max(maxi, summ)\n",
    "    return maxi\n",
    "\n",
    "SubarraySumBetter([1,2,3,4])  "
   ]
  },
  {
   "cell_type": "code",
   "execution_count": 681,
   "id": "d8ff7259-ef37-463b-834f-b051cfa087b6",
   "metadata": {},
   "outputs": [
    {
     "name": "stdin",
     "output_type": "stream",
     "text": [
      "Enter number of test cases:  1\n"
     ]
    },
    {
     "name": "stdout",
     "output_type": "stream",
     "text": [
      "====================================================\n",
      "\n",
      "Test case: 1\n"
     ]
    },
    {
     "name": "stdin",
     "output_type": "stream",
     "text": [
      "Enter array:  2,1,-3,4,-1,2,1,-5,4\n"
     ]
    },
    {
     "name": "stdout",
     "output_type": "stream",
     "text": [
      "the maximum Subarry with length [4, -1, 2, 1]\n"
     ]
    }
   ],
   "source": [
    "from typing import List\n",
    "def Kadanes(arr: List[int]) -> List: # -2,1,-3,4,-1,2,1,-5,4\n",
    "    maxi = float('-inf')\n",
    "    sum = 0\n",
    "    start = 0\n",
    "    left, right = -1, -1\n",
    "\n",
    "    for i in range(len(arr)):\n",
    "        if sum == 0:\n",
    "            start = i\n",
    "            \n",
    "        sum += arr[i]\n",
    "        if sum > maxi:\n",
    "            maxi = sum\n",
    "            left = start\n",
    "            right = i\n",
    "        if sum < 0:\n",
    "            sum = 0\n",
    "\n",
    "    return arr[left:right+1]\n",
    "\n",
    "if __name__ == \"__main__\":\n",
    "    t = int(input(\"Enter number of test cases: \"))\n",
    "    print(\"====================================================\")\n",
    "    for _ in range(t):\n",
    "        print()\n",
    "        print(f\"Test case: {_+1}\")\n",
    "        arr = list(map(int,input(\"Enter array: \").split(\",\")))\n",
    "        print(f\"the maximum Subarry with length {Kadanes(arr)}\")"
   ]
  },
  {
   "cell_type": "code",
   "execution_count": null,
   "id": "9f4d9866-758f-47fa-ade2-60dbad17d081",
   "metadata": {},
   "outputs": [],
   "source": []
  },
  {
   "cell_type": "code",
   "execution_count": null,
   "id": "d4aaef05-c46b-4088-b3ad-a7661bcf7206",
   "metadata": {},
   "outputs": [],
   "source": [
    "def maxProfit(self, arr: List[int]) -> int:\n",
    "    mini, maxprofit = arr[0],0\n",
    "    for i in range(1,len(arr)):\n",
    "        cost = arr[i] - mini\n",
    "        maxprofit = max(maxprofit,cost)\n",
    "        mini = min(mini,arr[i])\n",
    "    return maxprofit"
   ]
  },
  {
   "cell_type": "markdown",
   "id": "c5c62c9e-eea6-4093-86d4-38b89fde591a",
   "metadata": {},
   "source": [
    "### Rearrange array brute/better"
   ]
  },
  {
   "cell_type": "code",
   "execution_count": null,
   "id": "380f95d9-3266-4a52-aee0-80205c1120b7",
   "metadata": {},
   "outputs": [],
   "source": [
    "def rearrangeArray( arr: List[int]) -> List[int]:\n",
    "        pos = []\n",
    "        neg = []\n",
    "        for i in arr:\n",
    "            if i > 0:\n",
    "                pos.append(i)\n",
    "            else:\n",
    "                neg.append(i)\n",
    "        for i in range(len(arr)//2):\n",
    "            arr[2*i] = pos[i]\n",
    "            arr[2*i+1] = neg[i]\n",
    "        return arr"
   ]
  },
  {
   "cell_type": "markdown",
   "id": "5fa17924-66f2-4695-89e6-2e3bf59ab670",
   "metadata": {},
   "source": [
    "### Rearrange array optimal"
   ]
  },
  {
   "cell_type": "code",
   "execution_count": null,
   "id": "26057670-e9bc-4592-abc7-4718495b6c84",
   "metadata": {},
   "outputs": [],
   "source": [
    "def rearrangeArray(self, arr: List[int]) -> List[int]:\n",
    "    n = len(arr)\n",
    "    res_arr = [0] * n\n",
    "    pos,neg = 0,1\n",
    "    for i in arr:\n",
    "        if i > 0:\n",
    "            res_arr[pos] = i\n",
    "            pos += 2\n",
    "        else:\n",
    "            res_arr[neg] = i\n",
    "            neg += 2\n",
    "    return res_arr"
   ]
  },
  {
   "cell_type": "markdown",
   "id": "9c1ffd75-3dfb-41fe-9abf-b4d75b20288e",
   "metadata": {},
   "source": [
    "# Variety-2 of Rearranging array\n",
    "## Problem Statement:\r\n",
    "There’s an array ‘A’ of size ‘N’ with positive and negative elements (not necessarily equal). Without altering the relative order of positive and negative elements, you must return an array of alternately positive and negative values. The leftover elements should be placed at the very end in the same order as in array A.\r\n",
    "\r\n",
    "Note: Start the array with positive elements."
   ]
  },
  {
   "cell_type": "code",
   "execution_count": 744,
   "id": "2d1616b6-b7f7-46b2-bd41-b2a5b4ce69f5",
   "metadata": {},
   "outputs": [],
   "source": [
    "def rearrangeArray2(arr: List[int]) -> List[int]:\n",
    "    pos, neg = [],[]\n",
    "    \n",
    "    for i in arr:\n",
    "        pos.append(i) if i > 0 else neg.append(i)\n",
    "    minarray = min(len(pos),len(neg))\n",
    "    for i in range(minarray):\n",
    "        arr[2*i] = pos[i]\n",
    "        arr[2*i+1] = neg[i]\n",
    "    print(pos,neg)\n",
    "\n",
    "    if len(pos) > len(neg):\n",
    "        arr[2*minarray:] = pos[minarray:]\n",
    "    else:\n",
    "        arr[2*minarray:] = neg[minarray:]\n",
    "    return arr"
   ]
  },
  {
   "cell_type": "code",
   "execution_count": 748,
   "id": "f568e022-bc51-4e45-ae64-ee47ca3ea7a0",
   "metadata": {},
   "outputs": [
    {
     "name": "stdout",
     "output_type": "stream",
     "text": [
      "[1, 2] [-3, -1, -2, -3]\n"
     ]
    },
    {
     "data": {
      "text/plain": [
       "[1, -3, 2, -1, -2, -3]"
      ]
     },
     "execution_count": 748,
     "metadata": {},
     "output_type": "execute_result"
    }
   ],
   "source": [
    "rearrangeArray2([1,2,-3,-1,-2,-3])"
   ]
  },
  {
   "cell_type": "raw",
   "id": "c6eddad2-3023-48d9-9b13-f87ce1d14e47",
   "metadata": {},
   "source": []
  },
  {
   "cell_type": "markdown",
   "id": "b382ed0f-0597-4645-92fd-c3b98d490f20",
   "metadata": {},
   "source": [
    "# Next Permutation : find next lexicographically greater permutation\n",
    "## Problem Statement: \n",
    "Given an array Arr[] of integers, rearrange the numbers of the given array into the lexicographically next greater permutation of numbers.\r\n",
    "\r\n",
    "If such an arrangement is not possible, it must rearrange to the lowest possible order (i.e., sorted in ascending order)."
   ]
  },
  {
   "cell_type": "raw",
   "id": "69cbe491-bee9-42b4-9465-95df71f6fef1",
   "metadata": {},
   "source": [
    "Example 1 :\n",
    "Input format: Arr[] = {1,3,2}\n",
    "Output: Arr[] = {2,1,3}\n",
    "Explanation: \n",
    "All permutations of {1,2,3} are {{1,2,3} , {1,3,2}, {2,13} , {2,3,1} , {3,1,2} , {3,2,1}}. So, the next permutation just after {1,3,2} is {2,1,3}.\n",
    "\n",
    "Example 2:\n",
    "Input format: Arr[] = {3,2,1}\n",
    "Output: Arr[] = {1,2,3}\n",
    "Explanation: \n",
    "As we see all permutations of {1,2,3}, we find {3,2,1} at the last position. So, we have to return the topmost permutation."
   ]
  },
  {
   "cell_type": "code",
   "execution_count": 848,
   "id": "91f2a448-2b17-45e7-9a6c-90d7cd9d822b",
   "metadata": {},
   "outputs": [
    {
     "name": "stdin",
     "output_type": "stream",
     "text": [
      "Enter number of test cases:  1\n"
     ]
    },
    {
     "name": "stdout",
     "output_type": "stream",
     "text": [
      "====================================================\n",
      "\n",
      "Test case: 1\n"
     ]
    },
    {
     "name": "stdin",
     "output_type": "stream",
     "text": [
      "Enter array:  2,3,5,4,1,0,0\n"
     ]
    },
    {
     "name": "stdout",
     "output_type": "stream",
     "text": [
      "[5, 3, 1, 0, 0]\n",
      "[0, 0, 1, 3, 5]\n",
      "The Next permutation is [2, 4, 0, 0, 1, 3, 5]\n"
     ]
    }
   ],
   "source": [
    "from typing import List\n",
    "\n",
    "def rotate(arr: List[int],left, right) -> None:\n",
    "        while left < right:\n",
    "            arr[left],arr[right] = arr[right],arr[left]\n",
    "            left += 1\n",
    "            right -= 1\n",
    "        return None\n",
    "def nextPermutation(arr: List[int]) -> None:\n",
    "    \n",
    "    peak = -1\n",
    "    for i in range(len(arr)-1,-1,-1):\n",
    "        if arr[i] > arr[i-1]:\n",
    "            peak = i-1\n",
    "            break\n",
    "    if peak == -1:\n",
    "        rotate(arr,0,len(arr)-1)\n",
    "        return arr\n",
    "    for j in range(len(arr)-1,-1,-1):\n",
    "        if arr[j] > arr[peak]:\n",
    "            arr[peak],arr[j] = arr[j],arr[peak]\n",
    "            break\n",
    "    print(arr[peak+1:])\n",
    "    rotate(arr,peak+1,len(arr)-1)\n",
    "    print(arr[peak+1:])\n",
    "\n",
    "if __name__ ==\"__main__\":\n",
    "    t = int(input(\"Enter number of test cases: \"))\n",
    "    print(\"====================================================\")\n",
    "    for _ in range(t):\n",
    "        print()\n",
    "        print(f\"Test case: {_+1}\")\n",
    "        arr = list(map(int,input(\"Enter array: \").split(\",\"))) \n",
    "        nextPerm = nextPermutation(arr)\n",
    "        print(f\"The Next permutation is {arr}\")"
   ]
  },
  {
   "cell_type": "code",
   "execution_count": null,
   "id": "abf5dde5-0f80-4d73-a834-36eb98e90b5a",
   "metadata": {},
   "outputs": [],
   "source": []
  }
 ],
 "metadata": {
  "kernelspec": {
   "display_name": "Python 3 (ipykernel)",
   "language": "python",
   "name": "python3"
  },
  "language_info": {
   "codemirror_mode": {
    "name": "ipython",
    "version": 3
   },
   "file_extension": ".py",
   "mimetype": "text/x-python",
   "name": "python",
   "nbconvert_exporter": "python",
   "pygments_lexer": "ipython3",
   "version": "3.12.4"
  }
 },
 "nbformat": 4,
 "nbformat_minor": 5
}
